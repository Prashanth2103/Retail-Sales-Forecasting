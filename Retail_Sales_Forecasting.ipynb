{
 "cells": [
  {
   "cell_type": "markdown",
   "id": "022bf93f",
   "metadata": {},
   "source": [
    "# Retail Sales Forecasting Project\n",
    "Forecast weekly sales using ARIMA and Prophet."
   ]
  },
  {
   "cell_type": "code",
   "execution_count": null,
   "id": "a60e1465",
   "metadata": {},
   "outputs": [],
   "source": [
    "# 1. Import libraries\n",
    "import pandas as pd\n",
    "import matplotlib.pyplot as plt\n",
    "from statsmodels.tsa.arima.model import ARIMA\n",
    "from prophet import Prophet\n",
    "from sklearn.metrics import mean_absolute_error, mean_squared_error\n",
    "\n",
    "plt.rcParams['figure.figsize'] = (12, 6)"
   ]
  },
  {
   "cell_type": "code",
   "execution_count": null,
   "id": "04da1b29",
   "metadata": {},
   "outputs": [],
   "source": [
    "# 2. Load dataset\n",
    "df = pd.read_csv('retail_sales.csv', parse_dates=['date'])\n",
    "df.set_index('date', inplace=True)\n",
    "df = df.asfreq('W')  # Weekly frequency\n",
    "df['sales'].interpolate(inplace=True)\n",
    "df.head()"
   ]
  },
  {
   "cell_type": "code",
   "execution_count": null,
   "id": "1063863a",
   "metadata": {},
   "outputs": [],
   "source": [
    "# 3. EDA\n",
    "df['sales'].plot(title='Weekly Sales')\n",
    "plt.show()"
   ]
  },
  {
   "cell_type": "code",
   "execution_count": null,
   "id": "171c048d",
   "metadata": {},
   "outputs": [],
   "source": [
    "# 4. ARIMA Model\n",
    "train = df.iloc[:-12]\n",
    "test = df.iloc[-12:]\n",
    "model_arima = ARIMA(train['sales'], order=(1,1,1)).fit()\n",
    "forecast_arima = model_arima.forecast(steps=12)\n",
    "print('ARIMA MAE:', mean_absolute_error(test['sales'], forecast_arima))"
   ]
  },
  {
   "cell_type": "code",
   "execution_count": null,
   "id": "6c3af83f",
   "metadata": {},
   "outputs": [],
   "source": [
    "# 5. Prophet Model\n",
    "prophet_df = df.reset_index()[['date','sales']].rename(columns={'date':'ds','sales':'y'})\n",
    "m = Prophet()\n",
    "m.fit(prophet_df.iloc[:-12])\n",
    "future = m.make_future_dataframe(periods=12, freq='W')\n",
    "forecast = m.predict(future)\n",
    "prophet_forecast = forecast.set_index('ds')['yhat'][-12:]\n",
    "print('Prophet MAE:', mean_absolute_error(test['sales'], prophet_forecast))"
   ]
  },
  {
   "cell_type": "code",
   "execution_count": null,
   "id": "e7b123b7",
   "metadata": {},
   "outputs": [],
   "source": [
    "# 6. Compare and Plot\n",
    "plt.plot(test.index, test['sales'], label='Actual')\n",
    "plt.plot(test.index, forecast_arima, label='ARIMA Forecast')\n",
    "plt.plot(test.index, prophet_forecast, label='Prophet Forecast')\n",
    "plt.legend(); plt.title('Model Comparison'); plt.show()"
   ]
  },
  {
   "cell_type": "code",
   "execution_count": null,
   "id": "d00a9d7a",
   "metadata": {},
   "outputs": [],
   "source": [
    "# 7. Save Forecasts\n",
    "output = pd.DataFrame({\n",
    "    'actual': test['sales'],\n",
    "    'arima_forecast': forecast_arima,\n",
    "    'prophet_forecast': prophet_forecast\n",
    "})\n",
    "output.to_csv('sales_forecast_comparison.csv', index=True)\n",
    "print('Forecast saved to sales_forecast_comparison.csv')"
   ]
  }
 ],
 "metadata": {},
 "nbformat": 4,
 "nbformat_minor": 5
}
